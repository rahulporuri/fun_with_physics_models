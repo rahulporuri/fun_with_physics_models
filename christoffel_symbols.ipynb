{
 "metadata": {
  "name": "",
  "signature": "sha256:2fb93971618cf8c58393c3586ffa8b7a0b19d249bffa8c50b910ee079814aa7c"
 },
 "nbformat": 3,
 "nbformat_minor": 0,
 "worksheets": [
  {
   "cells": [
    {
     "cell_type": "code",
     "collapsed": false,
     "input": [
      "import sympy"
     ],
     "language": "python",
     "metadata": {},
     "outputs": [],
     "prompt_number": 1
    },
    {
     "cell_type": "markdown",
     "metadata": {},
     "source": [
      "2D in polar coordinates\n",
      "==="
     ]
    },
    {
     "cell_type": "code",
     "collapsed": false,
     "input": [
      "r, phi = sympy.symbols('r phi')\n",
      "\n",
      "gmn= sympy.Matrix([[1,0],[0,r**2]])\n",
      "gMN= gmn**(-1)\n",
      "indices = {0:'r', 1:'phi'}"
     ],
     "language": "python",
     "metadata": {},
     "outputs": [],
     "prompt_number": 2
    },
    {
     "cell_type": "code",
     "collapsed": false,
     "input": [
      "for i in [0,1]:\n",
      "        for j in [0,1]:\n",
      "                for k in [0,1]:\n",
      "                        sum = 0\n",
      "                        for o in [r, phi]:\n",
      "                                if o == r:\n",
      "                                        l = 0\n",
      "                        #                print (1./2)*gMN[2*1+j]*(sympy.diff(gmn[2*0+j],phi) +sympy.diff(gmn[2*1+j],r) -sympy.diff(gmn[2*0+1],r))\n",
      "                                        sum += (1./2)*gMN[2*k+l]*(sympy.diff(gmn[2*j+l],indices[i]) +sympy.diff(gmn[2*i+l],indices[j]) -sympy.diff(gmn[2*i+j],indices[l]))\n",
      "                                if o == phi:\n",
      "                                        l = 1\n",
      "                                        sum += (1./2)*gMN[2*k+l]*(sympy.diff(gmn[2*j+l],indices[i]) +sympy.diff(gmn[2*i+l],indices[j]) -sympy.diff(gmn[2*i+j],indices[l]))\n",
      "                        #                print (1./2)*gMN[2*1+j]*(sympy.diff(gmn[2*0+j],phi) +sympy.diff(gmn[2*1+j],r) -sympy.diff(gmn[2*0+1],phi))\n",
      "                        print 'gamma',i,j,k,sum"
     ],
     "language": "python",
     "metadata": {},
     "outputs": [
      {
       "output_type": "stream",
       "stream": "stdout",
       "text": [
        "gamma 0 0 0 0\n",
        "gamma 0 0 1 0\n",
        "gamma 0 1 0 0\n",
        "gamma"
       ]
      },
      {
       "output_type": "stream",
       "stream": "stdout",
       "text": [
        " 0 1 1 1.0/r\n",
        "gamma 1 0 0 0\n",
        "gamma 1 0 1 1.0/r\n",
        "gamma"
       ]
      },
      {
       "output_type": "stream",
       "stream": "stdout",
       "text": [
        " 1 1 0 -1.0*r\n",
        "gamma 1 1 1 0\n"
       ]
      }
     ],
     "prompt_number": 3
    },
    {
     "cell_type": "markdown",
     "metadata": {},
     "source": [
      "$S^2$ in polar coordinates\n",
      "==="
     ]
    },
    {
     "cell_type": "code",
     "collapsed": false,
     "input": [
      "r, theta, phi = sympy.symbols('r theta phi')\n",
      "\n",
      "gmn= sympy.Matrix([[r**2,0],[0,(r**2)*(sympy.sin(theta)**2)]])\n",
      "gMN= gmn**(-1)\n",
      "indices = {0:'theta', 1:'phi'}"
     ],
     "language": "python",
     "metadata": {},
     "outputs": [],
     "prompt_number": 4
    },
    {
     "cell_type": "code",
     "collapsed": false,
     "input": [
      "for i in [0,1]:\n",
      "\tfor j in [0,1]:\n",
      "\t\tfor k in [0,1]:\n",
      "\t\t\tsum = 0\n",
      "\t\t\tfor l in [0,1]:\n",
      "\t\t\t#                print (1./2)*gMN[2*1+j]*(sympy.diff(gmn[2*0+j],phi) +sympy.diff(gmn[2*1+j],r) -sympy.diff(gmn[2*0+1],r))\n",
      "\t\t\t\tsum += (1./2)*gMN[2*k+l]*(sympy.diff(gmn[2*j+l],indices[i]) +sympy.diff(gmn[2*i+l],indices[j]) -sympy.diff(gmn[2*i+j],indices[l]))\n",
      "#\t\t\t\t\tsum += (1./2)*gMN[2*k+l]*(sympy.diff(gmn[2*j+l],indices[i]) +sympy.diff(gmn[2*i+l],indices[j]) -sympy.diff(gmn[2*i+j],indices[l]))\n",
      "\t\t\t#                print (1./2)*gMN[2*1+j]*(sympy.diff(gmn[2*0+j],phi) +sympy.diff(gmn[2*1+j],r) -sympy.diff(gmn[2*0+1],phi))\n",
      "\t\t\tprint 'gamma',i,j,k,sum"
     ],
     "language": "python",
     "metadata": {},
     "outputs": [
      {
       "output_type": "stream",
       "stream": "stdout",
       "text": [
        "gamma 0 0 0 0\n",
        "gamma 0 0 1 0\n",
        "gamma 0 1 0 0\n",
        "gamma"
       ]
      },
      {
       "output_type": "stream",
       "stream": "stdout",
       "text": [
        " 0 1 1 1.0*cos(theta)/sin(theta)\n",
        "gamma 1 0 0 0\n",
        "gamma 1 0 1 1.0*cos(theta)/sin(theta)\n",
        "gamma"
       ]
      },
      {
       "output_type": "stream",
       "stream": "stdout",
       "text": [
        " 1 1 0 -1.0*sin(theta)*cos(theta)\n",
        "gamma 1 1 1 0\n"
       ]
      }
     ],
     "prompt_number": 5
    },
    {
     "cell_type": "code",
     "collapsed": false,
     "input": [],
     "language": "python",
     "metadata": {},
     "outputs": []
    }
   ],
   "metadata": {}
  }
 ]
}