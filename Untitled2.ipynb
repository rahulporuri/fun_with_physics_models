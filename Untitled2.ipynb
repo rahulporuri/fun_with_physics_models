{
 "metadata": {
  "name": "",
  "signature": "sha256:41415c1be0c41de626602e481c4cb77a021936f3b3da543a4efcccd9410a05c4"
 },
 "nbformat": 3,
 "nbformat_minor": 0,
 "worksheets": []
}