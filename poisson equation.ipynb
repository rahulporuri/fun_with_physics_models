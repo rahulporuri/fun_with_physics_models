{
 "metadata": {
  "name": "",
  "signature": "sha256:b218667046d55812c0bd60c416999a83ef62abd0463e9efd9f75e471478f4ae1"
 },
 "nbformat": 3,
 "nbformat_minor": 0,
 "worksheets": [
  {
   "cells": [
    {
     "cell_type": "code",
     "collapsed": false,
     "input": [
      "import numpy as np\n",
      "import scipy.linalg as spalg\n",
      "import matplotlib.pyplot as plt\n",
      "%matplotlib inline"
     ],
     "language": "python",
     "metadata": {},
     "outputs": [],
     "prompt_number": 10
    },
    {
     "cell_type": "code",
     "collapsed": false,
     "input": [
      "a = 0.\n",
      "b = 1.\n",
      "N = 100\n",
      "\n",
      "A = np.zeros([N,N])\n",
      "B = np.zeros(N)\n",
      "U = np.zeros(N)\n",
      "\n",
      "h = (b-a)/(N-1)"
     ],
     "language": "python",
     "metadata": {},
     "outputs": [],
     "prompt_number": 2
    },
    {
     "cell_type": "code",
     "collapsed": false,
     "input": [
      "print h\n",
      "\n",
      "def fn(x):\n",
      "\treturn (3*x+x**2)*np.exp(x)\n",
      "\n",
      "def un(x):\n",
      "\treturn x*(1-x)*np.exp(x)\n",
      "\n",
      "for i in range(len(A)):\n",
      "\tfor j in range(len(A[0])):\n",
      "\t\t# loading A\n",
      "\t\tif i==j:\n",
      "\t\t\tA[i][j] = 2\n",
      "\t\tif abs(i-j) == 1:\n",
      "\t\t\tA[i][j] = -1\n",
      "\tB[i] = h**2*fn(a+i*h)\n",
      "\tU[i] = un(a+i*h)\n",
      "\n",
      "print a+i*h, b\n",
      "#print A, '\\n', B, '\\n'"
     ],
     "language": "python",
     "metadata": {},
     "outputs": [
      {
       "output_type": "stream",
       "stream": "stdout",
       "text": [
        "0.010101010101\n",
        "1.0 1.0\n"
       ]
      }
     ],
     "prompt_number": 3
    },
    {
     "cell_type": "code",
     "collapsed": false,
     "input": [
      "X = spalg.solve(A,B)\n",
      "X1 = np.dot(spalg.inv(A),B)\n",
      "#or np.linalg.inv(A)\n",
      "#print X, '\\n', U"
     ],
     "language": "python",
     "metadata": {},
     "outputs": [],
     "prompt_number": 4
    },
    {
     "cell_type": "code",
     "collapsed": false,
     "input": [
      "plt.hold(True)\n",
      "plt.plot(np.linspace(a,b,N,endpoint=True),U)#analytic soln\n",
      "plt.plot(np.linspace(a,b,N,endpoint=True),X,'+')#using standard function\n",
      "plt.plot(np.linspace(a,b,N,endpoint=True),X1,'--')#using inverse of function and dot product"
     ],
     "language": "python",
     "metadata": {},
     "outputs": [
      {
       "metadata": {},
       "output_type": "pyout",
       "prompt_number": 13,
       "text": [
        "[<matplotlib.lines.Line2D at 0xaf58fa6c>]"
       ]
      },
      {
       "metadata": {},
       "output_type": "display_data",
       "png": "[encoded data removed]",
       "text": [
        "<matplotlib.figure.Figure at 0xb0905cec>"
       ]
      }
     ],
     "prompt_number": 13
    },
    {
     "cell_type": "code",
     "collapsed": false,
     "input": [],
     "language": "python",
     "metadata": {},
     "outputs": []
    }
   ],
   "metadata": {}
  }
 ]
}