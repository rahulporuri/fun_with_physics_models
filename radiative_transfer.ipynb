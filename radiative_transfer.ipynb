{
 "metadata": {
  "name": "",
  "signature": "sha256:8ea7974269bb0e34e67975678a0cdefd7ddc1b8a4af8e0436809d8b6d2c67a09"
 },
 "nbformat": 3,
 "nbformat_minor": 0,
 "worksheets": [
  {
   "cells": [
    {
     "cell_type": "markdown",
     "metadata": {},
     "source": [
      "$$ A*G_{inc} = A*G_{em} + A*G_{conv} $$\n",
      "$$ G_{em} = \\sigma*(T^4-T_{\\inf}^4) $$\n",
      "$$ G_{conv} = h*(T-T0) $$"
     ]
    },
    {
     "cell_type": "code",
     "collapsed": false,
     "input": [
      "T0 = 300\n",
      "sigma = 5.67E-08\n",
      "\n",
      "def temp(T):\n",
      "    return (715 - 0.4*sigma*(T**4-T0**4) + 32*T0)/32"
     ],
     "language": "python",
     "metadata": {},
     "outputs": [],
     "prompt_number": 1
    },
    {
     "cell_type": "code",
     "collapsed": false,
     "input": [
      "print temp(301)"
     ],
     "language": "python",
     "metadata": {},
     "outputs": [
      {
       "output_type": "stream",
       "stream": "stdout",
       "text": [
        "322.266821424\n"
       ]
      }
     ],
     "prompt_number": 10
    },
    {
     "cell_type": "code",
     "collapsed": false,
     "input": [
      "T = 301\n",
      "while T-temp(T) != 0:\n",
      "    T = temp(T)\n",
      "    print T"
     ],
     "language": "python",
     "metadata": {},
     "outputs": [
      {
       "output_type": "stream",
       "stream": "stdout",
       "text": [
        "322.266821424\n",
        "320.440012888\n",
        "320.611882213\n",
        "320.595837164\n",
        "320.59733616\n",
        "320.597196127\n",
        "320.597209208\n",
        "320.597207986\n",
        "320.597208101\n",
        "320.59720809\n",
        "320.597208091\n",
        "320.597208091\n",
        "320.597208091\n",
        "320.597208091\n",
        "320.597208091\n"
       ]
      }
     ],
     "prompt_number": 12
    },
    {
     "cell_type": "code",
     "collapsed": false,
     "input": [
      "def rk_2_step(T):\n",
      "    return ?"
     ],
     "language": "python",
     "metadata": {},
     "outputs": []
    }
   ],
   "metadata": {}
  }
 ]
}