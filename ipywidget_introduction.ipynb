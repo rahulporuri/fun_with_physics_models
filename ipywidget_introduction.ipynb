{
 "metadata": {
  "name": ""
 },
 "nbformat": 3,
 "nbformat_minor": 0,
 "worksheets": [
  {
   "cells": [
    {
     "cell_type": "markdown",
     "metadata": {},
     "source": [
      "If you've used mathematica before, the concept of an ipython notebook shoudn't be alien to you. It is very similar to a mathematica notebook. In short, an ipython notebook (.ipynb) contains code and the results of the code can be embedded into the notebook, similar to a mathematica notebook. There are enough [examples][] where text files, images and videos have been embedded into ipy notebooks. I prefer working with ipynb files as it makes it easier to show code and the relevant results, break the code up into multiples *cells* and run them to make debugging easy and in the end, shown in a presentable format.\n",
      "\n",
      "You will need to have ipython and ipython-notebook installed. You will also need matplotlib for image plotting. And most importantly, you will need ipywidgets, which can be downloaded from [here][https://github.com/jakevdp/ipywidgets].\n",
      "\n",
      "All of these examples are made possible thanks to this library. Instead of evaluating and plotting the function in realtime, this library evaluates, stores and plots the data in advance thereby removing the need to have an ipython backend installed on alien machines. And to deliver the final blow is ipython nbconvert. This command can be used to convert the .ipynb file into a .py, .html or any of several other formats available. This is how the widgets in .ipynb files were converted to widgets in .html files and can thus be displayed anywhere on the internet. And all you need is an internet browser, which have become ubiquitous in current machines."
     ]
    },
    {
     "cell_type": "code",
     "collapsed": false,
     "input": [],
     "language": "python",
     "metadata": {},
     "outputs": []
    }
   ],
   "metadata": {}
  }
 ]
}